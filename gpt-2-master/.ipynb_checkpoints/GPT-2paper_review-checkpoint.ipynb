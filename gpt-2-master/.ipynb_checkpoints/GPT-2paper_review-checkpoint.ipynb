{
 "cells": [
  {
   "cell_type": "markdown",
   "id": "89ea8057-2ec6-4a7d-9fba-1ff405f5dc8e",
   "metadata": {},
   "source": [
    "# GPT-2 paper review"
   ]
  },
  {
   "cell_type": "markdown",
   "id": "50e31830-d787-48af-b13f-1edd1ce51776",
   "metadata": {},
   "source": [
    "`GPT-2(Generative Pre-trained Transformer 2)` 는\n",
    "OpenAI에서 2019년에 발표한 대규모 언어 모델로, 자연어 처리(NLP) 분야에서 새로운 패러다임을 제시하였습니다. 이 모델은 비지도 학습을 통해 방대한 양의 텍스트 데이터를 학습하여, 다양한 언어 이해 및 생성 작업에서 뛰어난 성능을 보여주었습니다."
   ]
  },
  {
   "cell_type": "markdown",
   "id": "7f602444-ba77-4954-a903-de022a69b8d5",
   "metadata": {},
   "source": [
    "`MARKED LANGUAGE MODELING` \n",
    "`GPT-2` 는 Autoregressive method로 다음 단어를 예측합니다 . 이를 위해 미래 위치에 대한 어텐션을 막는 **마스크(Mask)** 를 적용합니다."
   ]
  },
  {
   "attachments": {
    "4b6fd861-9c83-4106-a00c-0c8882d494e8.png": {
     "image/png": "[encoded data removed]"
    }
   },
   "cell_type": "markdown",
   "id": "ee3d940b-2b88-474b-9012-313cb48550b8",
   "metadata": {},
   "source": [
    "![image.png](attachment:4b6fd861-9c83-4106-a00c-0c8882d494e8.png)"
   ]
  },
  {
   "cell_type": "markdown",
   "id": "649d69a4-e555-410c-b361-128a14efc4c4",
   "metadata": {},
   "source": [
    " 소프트맥스 함수 내에서 미래 위치에 대한 확률을 0으로 만듭니다"
   ]
  },
  {
   "cell_type": "markdown",
   "id": "f518d616-6706-48ea-95fc-8b3ea9ff8dde",
   "metadata": {},
   "source": [
    "\n",
    "`비지도 학습의 강점`\n",
    "\n",
    "딥러닝에서 비지도 학습은 레이블이 없는 데이터로부터 패턴을 학습하는 방법입니다. GPT-2는 비지도 학습의 잠재력을 극대화하여, 다양한 언어 작업에서 뛰어난 성능을 보입니다.\n",
    "\n",
    "`모델 규모와 성능`\n",
    "\n",
    "모델의 크기와 데이터의 양을 증가시키면 성능이 향상된다는 것이 GPT-2를 통해 확인되었습니다. `스케일링 법칙` 을 보여줍니다.\n",
    "\n",
    "성능과 규모의 관계: performance ∝ log(model size)\n",
    "\n",
    "\n",
    "`Zero-shot 학습`\n",
    "\n",
    "GPT-2는 특정 작업에 대한 미세 조정(fine-tuning) 없이도 작업을 수행할 수 있습니다.\n"
   ]
  },
  {
   "cell_type": "code",
   "execution_count": null,
   "id": "fd28f5aa-6772-4030-9fa5-90dd3743f029",
   "metadata": {},
   "outputs": [],
   "source": []
  }
 ],
 "metadata": {
  "kernelspec": {
   "display_name": "Python (deep)",
   "language": "python",
   "name": "deep"
  },
  "language_info": {
   "codemirror_mode": {
    "name": "ipython",
    "version": 3
   },
   "file_extension": ".py",
   "mimetype": "text/x-python",
   "name": "python",
   "nbconvert_exporter": "python",
   "pygments_lexer": "ipython3",
   "version": "3.11.8"
  }
 },
 "nbformat": 4,
 "nbformat_minor": 5
}
