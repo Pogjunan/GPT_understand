{
 "cells": [
  {
   "cell_type": "markdown",
   "id": "580f6310-97cf-4c30-bf28-922f1a75dbee",
   "metadata": {},
   "source": [
    "# GPT-2 implementation"
   ]
  },
  {
   "cell_type": "markdown",
   "id": "10d80a7f-d4a2-43cc-bb91-a75fb5f4ff8d",
   "metadata": {},
   "source": [
    "### def"
   ]
  },
  {
   "cell_type": "code",
   "execution_count": null,
   "id": "8992bd73-e3aa-415c-93b3-60e2cb568452",
   "metadata": {},
   "outputs": [],
   "source": []
  }
 ],
 "metadata": {
  "kernelspec": {
   "display_name": "Python (deep)",
   "language": "python",
   "name": "deep"
  },
  "language_info": {
   "codemirror_mode": {
    "name": "ipython",
    "version": 3
   },
   "file_extension": ".py",
   "mimetype": "text/x-python",
   "name": "python",
   "nbconvert_exporter": "python",
   "pygments_lexer": "ipython3",
   "version": "3.11.8"
  }
 },
 "nbformat": 4,
 "nbformat_minor": 5
}
